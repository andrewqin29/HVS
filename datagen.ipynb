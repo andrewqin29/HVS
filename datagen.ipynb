{
 "cells": [
  {
   "cell_type": "markdown",
   "id": "08b7d0e5",
   "metadata": {},
   "source": [
    "### HVS Data Processing Pipeline\n",
    "Generating 6D Phase Space for select HVS "
   ]
  },
  {
   "cell_type": "code",
   "execution_count": 1,
   "id": "0e3208dd",
   "metadata": {},
   "outputs": [
    {
     "name": "stdout",
     "output_type": "stream",
     "text": [
      "Imported libraries successfully...\n"
     ]
    }
   ],
   "source": [
    "import pandas as pd\n",
    "from astroquery.gaia import Gaia\n",
    "\n",
    "print(\"Imported libraries successfully...\")"
   ]
  }
 ],
 "metadata": {
  "kernelspec": {
   "display_name": "hvs_env",
   "language": "python",
   "name": "python3"
  },
  "language_info": {
   "codemirror_mode": {
    "name": "ipython",
    "version": 3
   },
   "file_extension": ".py",
   "mimetype": "text/x-python",
   "name": "python",
   "nbconvert_exporter": "python",
   "pygments_lexer": "ipython3",
   "version": "3.12.3"
  }
 },
 "nbformat": 4,
 "nbformat_minor": 5
}
